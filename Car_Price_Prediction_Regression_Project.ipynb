{
 "cells": [
  {
   "cell_type": "markdown",
   "id": "c28c2eb3",
   "metadata": {},
   "source": [
    "# 🚗 Car Price Prediction - Regression Project\n",
    "\n",
    "## 🧾 Problem Description\n",
    "A Chinese automobile company wants to understand how car prices vary in the US market. The aim is to build a regression model to identify key factors influencing car prices, and use this model to predict prices based on various car features.\n",
    "\n",
    "---\n",
    "\n",
    "## 🎯 Business Goal\n",
    "- Identify significant variables affecting car prices.\n",
    "- Build predictive models to estimate car prices.\n",
    "- Evaluate and compare model performance.\n",
    "- Interpret results for strategic business decisions.\n"
   ]
  },
  {
   "cell_type": "markdown",
   "id": "089fbc1b",
   "metadata": {},
   "source": [
    "## 1️⃣ Loading and Preprocessing"
   ]
  },
  {
   "cell_type": "code",
   "execution_count": null,
   "id": "7c6fd178",
   "metadata": {},
   "outputs": [],
   "source": [
    "import pandas as pd\n",
    "import numpy as np\n",
    "\n",
    "# Load data\n",
    "url = \"car_data.csv\"  # Replace with your local file path if needed\n",
    "df = pd.read_csv(url)\n",
    "\n",
    "# Initial Inspection\n",
    "df.head()\n"
   ]
  },
  {
   "cell_type": "code",
   "execution_count": null,
   "id": "246c2742",
   "metadata": {},
   "outputs": [],
   "source": [
    "# Basic Info\n",
    "df.info()\n",
    "\n",
    "# Check for missing values\n",
    "df.isnull().sum()\n"
   ]
  },
  {
   "cell_type": "code",
   "execution_count": null,
   "id": "5dccd7b2",
   "metadata": {},
   "outputs": [],
   "source": [
    "# Handle missing values\n",
    "df = df.dropna()\n",
    "\n",
    "# Convert categorical to numeric if necessary\n",
    "df = pd.get_dummies(df, drop_first=True)\n",
    "\n",
    "# Separate target and features\n",
    "X = df.drop('price', axis=1)\n",
    "y = df['price']\n",
    "\n",
    "# Feature Scaling\n",
    "from sklearn.preprocessing import StandardScaler\n",
    "scaler = StandardScaler()\n",
    "X_scaled = scaler.fit_transform(X)\n",
    "\n",
    "# Train/Test Split\n",
    "from sklearn.model_selection import train_test_split\n",
    "X_train, X_test, y_train, y_test = train_test_split(X_scaled, y, test_size=0.2, random_state=42)\n"
   ]
  },
  {
   "cell_type": "markdown",
   "id": "7ece66bc",
   "metadata": {},
   "source": [
    "## 2️⃣ Model Implementation"
   ]
  },
  {
   "cell_type": "code",
   "execution_count": null,
   "id": "17f444f8",
   "metadata": {},
   "outputs": [],
   "source": [
    "from sklearn.linear_model import LinearRegression\n",
    "from sklearn.tree import DecisionTreeRegressor\n",
    "from sklearn.ensemble import RandomForestRegressor, GradientBoostingRegressor\n",
    "from sklearn.svm import SVR\n",
    "\n",
    "models = {\n",
    "    \"Linear Regression\": LinearRegression(),\n",
    "    \"Decision Tree\": DecisionTreeRegressor(random_state=42),\n",
    "    \"Random Forest\": RandomForestRegressor(random_state=42),\n",
    "    \"Gradient Boosting\": GradientBoostingRegressor(random_state=42),\n",
    "    \"SVR\": SVR()\n",
    "}\n",
    "\n",
    "from sklearn.metrics import mean_squared_error, mean_absolute_error, r2_score\n",
    "\n",
    "results = {}\n",
    "\n",
    "for name, model in models.items():\n",
    "    model.fit(X_train, y_train)\n",
    "    y_pred = model.predict(X_test)\n",
    "    results[name] = {\n",
    "        \"R²\": r2_score(y_test, y_pred),\n",
    "        \"MSE\": mean_squared_error(y_test, y_pred),\n",
    "        \"MAE\": mean_absolute_error(y_test, y_pred)\n",
    "    }\n",
    "\n",
    "results_df = pd.DataFrame(results).T.sort_values(\"R²\", ascending=False)\n",
    "results_df\n"
   ]
  },
  {
   "cell_type": "markdown",
   "id": "4323094a",
   "metadata": {},
   "source": [
    "## 3️⃣ Model Evaluation\n",
    "\n",
    "- **Best Model**: Choose the model with highest R² and lowest MSE & MAE.\n",
    "- **Worst Model**: Lowest R² and/or highest error metrics.\n",
    "\n",
    "We'll justify the performance based on these.\n"
   ]
  },
  {
   "cell_type": "markdown",
   "id": "d8fab86a",
   "metadata": {},
   "source": [
    "## 4️⃣ Feature Importance Analysis"
   ]
  },
  {
   "cell_type": "code",
   "execution_count": null,
   "id": "db612437",
   "metadata": {},
   "outputs": [],
   "source": [
    "import matplotlib.pyplot as plt\n",
    "import seaborn as sns\n",
    "\n",
    "# Use Random Forest for feature importance\n",
    "rf = RandomForestRegressor(random_state=42)\n",
    "rf.fit(X_train, y_train)\n",
    "\n",
    "importances = pd.Series(rf.feature_importances_, index=X.columns)\n",
    "top_features = importances.sort_values(ascending=False).head(10)\n",
    "\n",
    "plt.figure(figsize=(10,6))\n",
    "sns.barplot(x=top_features.values, y=top_features.index)\n",
    "plt.title(\"Top 10 Important Features\")\n",
    "plt.show()\n"
   ]
  },
  {
   "cell_type": "markdown",
   "id": "074feccb",
   "metadata": {},
   "source": [
    "## 5️⃣ Hyperparameter Tuning"
   ]
  },
  {
   "cell_type": "code",
   "execution_count": null,
   "id": "80866154",
   "metadata": {},
   "outputs": [],
   "source": [
    "from sklearn.model_selection import GridSearchCV\n",
    "\n",
    "param_grid = {\n",
    "    'n_estimators': [100, 200],\n",
    "    'max_depth': [None, 10, 20],\n",
    "    'min_samples_split': [2, 5]\n",
    "}\n",
    "\n",
    "grid = GridSearchCV(RandomForestRegressor(random_state=42), param_grid, cv=3, scoring='r2', n_jobs=-1)\n",
    "grid.fit(X_train, y_train)\n",
    "\n",
    "print(\"Best Parameters:\", grid.best_params_)\n",
    "\n",
    "best_model = grid.best_estimator_\n",
    "y_pred_best = best_model.predict(X_test)\n",
    "\n",
    "print(\"Improved R²:\", r2_score(y_test, y_pred_best))\n"
   ]
  },
  {
   "cell_type": "markdown",
   "id": "903953a4",
   "metadata": {},
   "source": [
    "## 📤 Submission\n",
    "- Upload this notebook and your dataset to **GitHub**.\n",
    "- Share the GitHub repository link.\n",
    "- Ensure all markdown explanations are clear.\n",
    "\n",
    "---\n",
    "\n",
    "✅ **End of Project**\n"
   ]
  }
 ],
 "metadata": {},
 "nbformat": 4,
 "nbformat_minor": 5
}
